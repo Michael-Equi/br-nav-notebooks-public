{
 "cells": [
  {
   "cell_type": "markdown",
   "metadata": {},
   "source": [
    "# Kinematics Assited Model Approach\n",
    "\n",
    "Predict future position with forward kinematics and evaluate path with NN"
   ]
  },
  {
   "cell_type": "code",
   "execution_count": 167,
   "metadata": {},
   "outputs": [],
   "source": [
    "training_dataset_root_path = \"/home/michael/Desktop/BytesDB_simple2/\"\n",
    "validation_dataset_root_path = \"/home/michael/Desktop/BytesDB_validation/\""
   ]
  },
  {
   "cell_type": "code",
   "execution_count": 168,
   "metadata": {},
   "outputs": [
    {
     "name": "stdout",
     "output_type": "stream",
     "text": [
      "Size of training set:  405\n",
      "Size of validation set:  7910\n"
     ]
    }
   ],
   "source": [
    "import csv\n",
    "import os\n",
    "import math\n",
    "\n",
    "class BytesDataset:\n",
    "    def __init__(self,  root_path):\n",
    "        self.root_path = root_path\n",
    "        self.dataset_left_imgs = os.path.join(self.root_path, \"left\")\n",
    "        self.dataset_right_imgs = os.path.join(self.root_path, \"right\")\n",
    "        self.dataset_file = os.path.join(self.root_path, \"db.csv\")\n",
    "        self._read_db_file()\n",
    "        \n",
    "    def get_index_map(self):\n",
    "        return self.index_map\n",
    "    \n",
    "    def get_left_images_path(self):\n",
    "        return self.dataset_left_imgs \n",
    "    \n",
    "    def get_right_images_path(self):\n",
    "        return self.dataset_right_imgs \n",
    "    \n",
    "    def get_db(self):\n",
    "        return self.db_file\n",
    "    \n",
    "    def get_episode_indices(self):\n",
    "        return self.episode_indicies\n",
    "    \n",
    "    def get_drive_command(self, row):\n",
    "        return [self.get_db_value(row, 'action x'), self.get_db_value(row, 'action r')]\n",
    "    \n",
    "    # untested\n",
    "    def get_yaw(self, row):\n",
    "        q = self.get_orientation(row) # z, y, x, w\n",
    "        yaw = math.atan2(2.0*(q[1]*q[0] + q[3]*q[2]), q[3]*q[3] - q[2]*q[2] - q[1]*q[1] + q[0]*q[0])\n",
    "        return yaw\n",
    "\n",
    "    \n",
    "    def get_position(self, row):\n",
    "        return [self.get_db_value(row, 'position x'), self.get_db_value(row, 'position y'), self.get_db_value(row, 'position z')]\n",
    "    \n",
    "    def get_orientation(self, row):\n",
    "        return [self.get_db_value(row, 'odom orientation z'), self.get_db_value(row, 'odom orientation y'), self.get_db_value(row, 'odom orientation x'), self.get_db_value(row, 'odom orientation w')]\n",
    "    \n",
    "    def get_db_value(self, row, column):\n",
    "        if type(column) == str:\n",
    "            column = self.index_map[column]\n",
    "        if column:\n",
    "            return float(self.db_file[row][column])\n",
    "        else: \n",
    "            return self.db_file[row][column]\n",
    "    \n",
    "    def _read_db_file(self):\n",
    "        # Read the db file\n",
    "        self.db_file = []\n",
    "        # start and stops for each episode (zero to be replaced later) [inclusive, exclusive]\n",
    "        self.episode_indicies = [[1,0]] \n",
    "        with open(self.dataset_file) as file:\n",
    "            csv_reader = csv.reader(file)\n",
    "            for i, row in enumerate(csv_reader):\n",
    "                if(row[0] == \"-\"):\n",
    "                    self.episode_indicies.append([i+1,0])\n",
    "                    self.episode_indicies[len(self.episode_indicies)-2][1] = i\n",
    "                self.db_file.append(row)\n",
    "            if self.episode_indicies[len(self.episode_indicies)-1][1] == 0:\n",
    "                self.episode_indicies[len(self.episode_indicies)-1][1] = len(self.db_file)\n",
    "        self.index_map = dict(zip(self.db_file[0],range(len(self.db_file[0]))))\n",
    "        \n",
    "validation_data = BytesDataset(validation_dataset_root_path)\n",
    "train_data = BytesDataset(training_dataset_root_path) \n",
    "\n",
    "print(\"Size of training set: \", len(train_data.get_db()))\n",
    "print(\"Size of validation set: \", len(validation_data.get_db()))"
   ]
  },
  {
   "cell_type": "code",
   "execution_count": 169,
   "metadata": {},
   "outputs": [
    {
     "data": {
      "text/plain": [
       "[[1, 405]]"
      ]
     },
     "execution_count": 169,
     "metadata": {},
     "output_type": "execute_result"
    }
   ],
   "source": [
    "train_data.episode_indicies"
   ]
  },
  {
   "cell_type": "code",
   "execution_count": 170,
   "metadata": {},
   "outputs": [],
   "source": [
    "def quaternion_mult(q,r):\n",
    "    return [r[0]*q[0]-r[1]*q[1]-r[2]*q[2]-r[3]*q[3],\n",
    "            r[0]*q[1]+r[1]*q[0]-r[2]*q[3]+r[3]*q[2],\n",
    "            r[0]*q[2]+r[1]*q[3]+r[2]*q[0]-r[3]*q[1],\n",
    "            r[0]*q[3]-r[1]*q[2]+r[2]*q[1]+r[3]*q[0]]\n",
    "\n",
    "# input point is [x,y,z] and quaternion is z, x, y, w\n",
    "def point_rotation_by_quaternion(point,q):\n",
    "    r = [0]+point\n",
    "    q_conj = [q[0],-1*q[1],-1*q[2],-1*q[3]]\n",
    "    return quaternion_mult(quaternion_mult(q,r),q_conj)[1:]\n",
    "\n",
    "# point 1 - point 2\n",
    "def subtract_points(point1, point2):\n",
    "    return [point1[0] - point2[0], point1[1] - point2[1], point1[2] - point2[2]]"
   ]
  },
  {
   "cell_type": "code",
   "execution_count": 202,
   "metadata": {},
   "outputs": [],
   "source": [
    "def pose_in_new_coordinate_space(start_index, target_index):\n",
    "#     transformed_point = point_rotation_by_quaternion(point_rotation_by_quaternion(subtract_points( train_data.get_position(target_index),  train_data.get_position(start_index)), train_data.get_orientation(start_index)), [-0.707,0,0,0.707])\n",
    "    transformed_point = point_rotation_by_quaternion(subtract_points( train_data.get_position(start_index),  train_data.get_position(target_index)), train_data.get_orientation(start_index))\n",
    "    return [transformed_point[1], transformed_point[0]]"
   ]
  },
  {
   "cell_type": "code",
   "execution_count": 219,
   "metadata": {},
   "outputs": [],
   "source": [
    "path_x = []\n",
    "path_y = []\n",
    "start_index = 1\n",
    "for i in range(404):\n",
    "    point = pose_in_new_coordinate_space(start_index, start_index+i)\n",
    "    path_x.append(-point[0])\n",
    "    path_y.append(point[1])"
   ]
  },
  {
   "cell_type": "code",
   "execution_count": 220,
   "metadata": {},
   "outputs": [
    {
     "data": {
      "image/png": "[encoded data removed]",
      "text/plain": [
       "<Figure size 432x288 with 1 Axes>"
      ]
     },
     "metadata": {
      "needs_background": "light"
     },
     "output_type": "display_data"
    }
   ],
   "source": [
    "import matplotlib.pyplot as plt\n",
    "plt.scatter(path_x, path_y)\n",
    "plt.plot(path_x, path_y)\n",
    "plt.show()"
   ]
  },
  {
   "cell_type": "markdown",
   "metadata": {},
   "source": [
    "## Prediction"
   ]
  },
  {
   "cell_type": "code",
   "execution_count": 230,
   "metadata": {},
   "outputs": [
    {
     "name": "stdout",
     "output_type": "stream",
     "text": [
      "0.3849833448727786\n"
     ]
    }
   ],
   "source": [
    "# questionable dt, the one corresponsing with the sleep time seems much more correct\n",
    "avg_dt = 0\n",
    "for i in range(240,300):\n",
    "    avg_dt += train_data.get_db_value(i,'dt')\n",
    "print(avg_dt/60)"
   ]
  },
  {
   "cell_type": "code",
   "execution_count": 228,
   "metadata": {},
   "outputs": [],
   "source": [
    "# negative r is right\n",
    "path_x_est = [0]\n",
    "path_y_est = [0]\n",
    "\n",
    "last_pose = [0,0,0] # x,y,yaw\n",
    "for i in range(1,404):\n",
    "    command = train_data.get_drive_command(i)\n",
    "#     dt = train_data.get_db_value(i, 'dt')\n",
    "    dt = 0.2\n",
    "    \n",
    "    yaw = last_pose[2] + command[1]*dt\n",
    "    x = last_pose[0] + command[0]*dt*math.sin(yaw)\n",
    "    y = last_pose[1] + command[0]*dt*math.cos(yaw)\n",
    "    \n",
    "    last_pose = [x,y,yaw]\n",
    "    \n",
    "    path_x_est.append(-x)\n",
    "    path_y_est.append(y)"
   ]
  },
  {
   "cell_type": "code",
   "execution_count": 229,
   "metadata": {},
   "outputs": [
    {
     "data": {
      "image/png": "[encoded data removed]",
      "text/plain": [
       "<Figure size 432x288 with 1 Axes>"
      ]
     },
     "metadata": {
      "needs_background": "light"
     },
     "output_type": "display_data"
    }
   ],
   "source": [
    "import matplotlib.pyplot as plt\n",
    "plt.scatter(path_x_est, path_y_est)\n",
    "plt.plot(path_x_est, path_y_est)\n",
    "plt.show()"
   ]
  },
  {
   "cell_type": "code",
   "execution_count": null,
   "metadata": {},
   "outputs": [],
   "source": []
  }
 ],
 "metadata": {
  "kernelspec": {
   "display_name": "nvidia_dl",
   "language": "python",
   "name": "nvidia_dl"
  },
  "language_info": {
   "codemirror_mode": {
    "name": "ipython",
    "version": 3
   },
   "file_extension": ".py",
   "mimetype": "text/x-python",
   "name": "python",
   "nbconvert_exporter": "python",
   "pygments_lexer": "ipython3",
   "version": "3.7.6"
  }
 },
 "nbformat": 4,
 "nbformat_minor": 4
}
